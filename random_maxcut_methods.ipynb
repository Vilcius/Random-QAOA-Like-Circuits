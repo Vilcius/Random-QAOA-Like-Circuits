{
 "cells": [
  {
   "cell_type": "code",
   "execution_count": null,
   "id": "d12c21a3",
   "metadata": {},
   "outputs": [],
   "source": [
    "# file: random_maxcut-methods.py\n",
    "# author: Anthony Wilkie"
   ]
  },
  {
   "cell_type": "code",
   "execution_count": null,
   "id": "fb195e2f",
   "metadata": {
    "title": "Import"
   },
   "outputs": [],
   "source": [
    "import pennylane as qml\n",
    "from pennylane import numpy as np\n",
    "from matplotlib import pyplot as plt\n",
    "\n",
    "import networkx as nx"
   ]
  },
  {
   "cell_type": "code",
   "execution_count": null,
   "id": "3546cfff",
   "metadata": {
    "title": "Draw Graph"
   },
   "outputs": [],
   "source": [
    "def draw_cut(G, pos, bitstring, beamer=False):\n",
    "    S0 = [node for node in G.nodes if bitstring[node] == \"0\"]\n",
    "    S1 = [node for node in G.nodes if bitstring[node] == \"1\"]\n",
    "\n",
    "    cut_edges = [edge for edge in G.edges if bitstring[edge[0]] != bitstring[edge[1]]]\n",
    "    uncut_edges = [edge for edge in G.edges if bitstring[edge[0]] == bitstring[edge[1]]]\n",
    "\n",
    "    nx.draw_networkx_nodes(G, pos, nodelist=S0, node_color='#a99b63')\n",
    "    #nx.draw_networkx_nodes(G, pos, nodelist=S0, node_color='#936846')\n",
    "    nx.draw_networkx_nodes(G, pos, nodelist=S1, node_color='#286d8c')\n",
    "    if beamer:\n",
    "        nx.draw_networkx_edges(G, pos, edgelist=cut_edges, edge_color='#98c9d3', style='dashdot', alpha=0.5)\n",
    "        nx.draw_networkx_edges(G, pos, edgelist=uncut_edges, edge_color='#98c9d3', style='solid')\n",
    "        plt.rc('figure', facecolor='#041017')\n",
    "    else:\n",
    "        plt.rcdefaults()\n",
    "        nx.draw_networkx_edges(G, pos, edgelist=cut_edges, edge_color='#041017', style='dashdot', alpha=0.5)\n",
    "        nx.draw_networkx_edges(G, pos, edgelist=uncut_edges, edge_color='#041017', style='solid')\n",
    "    nx.draw_networkx_labels(G, pos)"
   ]
  },
  {
   "cell_type": "code",
   "execution_count": null,
   "id": "1237aaf0",
   "metadata": {
    "title": "bitstring"
   },
   "outputs": [],
   "source": [
    "def bitstring_to_int(bit_string_sample):\n",
    "    bit_string = \"\".join(str(bs) for bs in bit_string_sample)\n",
    "    return int(bit_string, base=2)"
   ]
  },
  {
   "cell_type": "code",
   "execution_count": null,
   "id": "b9e3a1ba",
   "metadata": {
    "title": "Plot"
   },
   "outputs": [],
   "source": [
    "barcolors = ['#286d8c', '#a99b63', '#936846', '#4d7888']\n",
    "\n",
    "def graph(bitstrings, beamer):\n",
    "\n",
    "    if beamer:\n",
    "        xticks = range(0, 2**(n_wires))\n",
    "        xtick_labels = list(map(lambda x: format(x, f\"0{n_wires}b\"), xticks))\n",
    "        bins = np.arange(0, 2**(n_wires)+1) - 0.5\n",
    "\n",
    "        plt.figure(figsize=(16, 8))\n",
    "        plt.rc('font', size=16)\n",
    "        plt.rc('axes', edgecolor='#98c9d3', labelcolor='#98c9d3', titlecolor='#98c9d3', facecolor='#041017')\n",
    "        plt.rc('figure', facecolor='#041017')\n",
    "        plt.rc('savefig', facecolor='#041017')\n",
    "        plt.rc('xtick',color='#98c9d3')\n",
    "        plt.rc('ytick',color='#98c9d3')\n",
    "        plt.rc('legend',labelcolor='#98c9d3', edgecolor='#98c9d3',facecolor=(0,0,0,0))\n",
    "        plt.title(\"s-QAOA\")\n",
    "        plt.xlabel(\"Bitstrings\")\n",
    "        plt.ylabel(\"Frequency\")\n",
    "        plt.xticks(xticks, xtick_labels, rotation=\"vertical\")\n",
    "        plt.hist(bitstrings,\n",
    "                 bins=bins,\n",
    "                 density=True,\n",
    "                 color=barcolors[0],\n",
    "                 edgecolor = \"#041017\",\n",
    "                 # label=[f'scenario {i}' for i in range(n_scenarios)]\n",
    "                 )\n",
    "        # plt.legend()\n",
    "        plt.tight_layout()\n",
    "        # plt.savefig('/home/vilcius/School/utk/PHYS_642-quantum_information/project/maxcut_1_beamer.pdf',\n",
    "                   # transparent=True)\n",
    "    else:\n",
    "        xticks = range(0, 2**(n_wires))\n",
    "        xtick_labels = list(map(lambda x: format(x, f\"0{n_wires}b\"), xticks))\n",
    "        bins = np.arange(0, 2**(n_wires)+1) - 0.5\n",
    "\n",
    "        plt.figure(figsize=(16, 8))\n",
    "        plt.rc('font', size=16)\n",
    "        plt.title(\"s-QAOA\")\n",
    "        plt.xlabel(\"Bitstrings\")\n",
    "        plt.ylabel(\"Frequency\")\n",
    "        plt.xticks(xticks, xtick_labels, rotation=\"vertical\")\n",
    "        plt.hist(bitstrings,\n",
    "                 bins=bins,\n",
    "                 density=True,\n",
    "                 color=barcolors[0],\n",
    "                 edgecolor = \"#041017\",\n",
    "                 # label=[f'scenario {i}' for i in range(n_scenarios)]\n",
    "                 )\n",
    "\n",
    "        plt.legend()\n",
    "        plt.tight_layout()\n",
    "        # plt.savefig('/home/vilcius/School/utk/PHYS_642-quantum_information/project/maxcut_1.pdf',\n",
    "        #            transparent=True)\n",
    "\n",
    "    plt.show()"
   ]
  },
  {
   "cell_type": "code",
   "execution_count": null,
   "id": "36c3664a",
   "metadata": {
    "title": "Print Expected Value"
   },
   "outputs": [],
   "source": [
    "def cut_expval(dev, bitstring, C):\n",
    "    r\"\"\"\n",
    "    Print the expected value of Hamiltonian C with respect to bitstring\n",
    "\n",
    "    Args:\n",
    "        dev (data type): TODO\n",
    "        bitstring (data type): TODO\n",
    "        C (data type): TODO\n",
    "    \"\"\"\n",
    "    @qml.qnode(dev)\n",
    "    def _cut_expval(bitstring, C):\n",
    "        r\"\"\"\n",
    "        Print the expected value of Hamiltonian C with respect to bitstring\n",
    "\n",
    "        Args:\n",
    "            bitstring (data type): TODO\n",
    "            C (data type): TODO\n",
    "        \"\"\"\n",
    "        psi = np.array([int(i) for i in bitstring])\n",
    "        qml.BasisState(psi,wires=range(len(bitstring)))\n",
    "\n",
    "        return qml.expval(C)\n",
    "    return _cut_expval(bitstring, C)"
   ]
  },
  {
   "cell_type": "code",
   "execution_count": null,
   "id": "e10f4a50",
   "metadata": {
    "lines_to_next_cell": 2,
    "title": "Layer Seeds"
   },
   "outputs": [],
   "source": [
    "def generate_layer_seeds(n_layers, seeds, initial_seed=3, same_seed=True):\n",
    "    r\"\"\"\n",
    "    Generate the seeds used in each layer of the random circuit.\n",
    "\n",
    "    Args:\n",
    "        n_layers (int): the depth of the circuit\n",
    "        seeds (list): the random seeds to choose from\n",
    "        initial_seed (int): the initial seed (p=1)\n",
    "        same_seed (boolean): Whether to use same seed.\n",
    "\n",
    "    Returns:\n",
    "        layer_seeds (list): the random seeds used in each layer.\n",
    "    \"\"\"\n",
    "    np.random.seed(initial_seed)\n",
    "    if n_layers > 1:\n",
    "        if same_seed:\n",
    "            layer_seeds = [initial_seed for _ in range(n_layers)]\n",
    "        else:\n",
    "            layer_seeds = [initial_seed] + list(np.random.choice(seeds, n_layers-1))\n",
    "    else:\n",
    "        layer_seeds = initial_seed\n",
    "    return layer_seeds"
   ]
  }
 ],
 "metadata": {
  "jupytext": {
   "cell_metadata_filter": "title,-all",
   "encoding": "# coding: utf-8",
   "executable": "/usr/bin/env python",
   "main_language": "python",
   "notebook_metadata_filter": "-all"
  }
 },
 "nbformat": 4,
 "nbformat_minor": 5
}
