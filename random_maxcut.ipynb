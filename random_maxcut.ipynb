{
 "cells": [
  {
   "cell_type": "code",
   "execution_count": null,
   "id": "cb0d0a03",
   "metadata": {
    "lines_to_next_cell": 2
   },
   "outputs": [],
   "source": [
    "# file: random_maxcut.py\n",
    "# author: Anthony Wilkie\n",
    "\n",
    "# TODO: Find more efficient way to calculate expected value (do not create new circuit)\n",
    "# TODO: Implement better data post-processing (pandas)\n",
    "# TODO: Implement option to do ma-QAOA"
   ]
  },
  {
   "cell_type": "code",
   "execution_count": null,
   "id": "2cefa5b5",
   "metadata": {
    "lines_to_next_cell": 2,
    "title": "Import"
   },
   "outputs": [],
   "source": [
    "import pennylane as qml\n",
    "from pennylane import numpy as np\n",
    "from matplotlib import pyplot as plt\n",
    "\n",
    "import networkx as nx\n",
    "import random_maxcut_methods as mthd\n",
    "import json\n",
    "import pandas as pd"
   ]
  },
  {
   "cell_type": "code",
   "execution_count": null,
   "id": "5d1112b5",
   "metadata": {
    "lines_to_next_cell": 1,
    "title": "Create Random Graph"
   },
   "outputs": [],
   "source": [
    "n = 10\n",
    "p = 0.3\n",
    "graph_seed = 18\n",
    "# graph_seed = 19\n",
    "G = nx.gnp_random_graph(n, p, seed=graph_seed)\n",
    "edges = G.edges()\n",
    "m = len(G.edges())\n",
    "\n",
    "# n = 5\n",
    "# edges = [(0,1), (0,2), (0,3), (0,4), (1,2), (2,3)]\n",
    "# m = len(edges)\n",
    "# G = nx.Graph(edges)\n",
    "\n",
    "mthd.draw_cut(G, nx.spring_layout(G, seed=1), '1'*n, beamer=True)\n",
    "plt.axis('off')\n",
    "plt.savefig('10_vertex_graph.pdf')\n",
    "plt.show()"
   ]
  },
  {
   "cell_type": "code",
   "execution_count": null,
   "id": "7e393500",
   "metadata": {
    "lines_to_next_cell": 2,
    "title": "Triangles"
   },
   "outputs": [],
   "source": [
    "def get_triangles(G, u, v):\n",
    "    r\"\"\"\n",
    "    Return the triangle subgraphs of G that contain the vertices u and v\n",
    "\n",
    "    Args:\n",
    "        G (networkx.Graph): graph\n",
    "        u (int): vertex\n",
    "        v (int): vertex\n",
    "\n",
    "    Returns:\n",
    "        tri_uv (list): the triangles\n",
    "    \"\"\"\n",
    "    \n",
    "    # get the subgraph of G containing u and v\n",
    "    # H = G.subgraph([u, v])\n",
    "    # print(H)\n",
    "\n",
    "    # # get the triangles of the subgraph\n",
    "    # tri_uv = [t for t in nx.enumerate_all_cliques(H) if len(t) == 3]\n",
    "    tri_uv = sorted(nx.common_neighbors(G,u,v))\n",
    "\n",
    "    return tri_uv\n",
    "\n",
    "# n = 5\n",
    "# edges = [(0,1), (0,2), (0,3), (0,4), (1,2), (2,3)]\n",
    "# m = len(edges)\n",
    "# G = nx.Graph(edges)\n",
    "mthd.draw_cut(G, nx.spring_layout(G, seed=1), '1'*n, beamer=True)\n",
    "plt.axis('off')\n",
    "\n",
    "for (u,v) in edges:\n",
    "    print(get_triangles(G,u,v))"
   ]
  },
  {
   "cell_type": "code",
   "execution_count": null,
   "id": "96a8fda3",
   "metadata": {
    "lines_to_next_cell": 2,
    "title": "graphs"
   },
   "outputs": [],
   "source": [
    "gg = nx.Graph()\n",
    "gg.add_nodes_from(range(5))\n",
    "for i in range(0,5):\n",
    "    for ii in range(5):\n",
    "        if len(get_triangles(gg, i, ii)) == 0:\n",
    "            gg.add_edge(i, ii)\n",
    "print(gg.edges)\n",
    "\n",
    "print(get_triangles(gg, 1,2))"
   ]
  },
  {
   "cell_type": "code",
   "execution_count": null,
   "id": "cf57ffbf",
   "metadata": {
    "lines_to_next_cell": 2,
    "title": "Variables"
   },
   "outputs": [],
   "source": [
    "n_wires = n\n",
    "shots=1000\n",
    "\n",
    "increase_degree = False\n",
    "\n",
    "if increase_degree:\n",
    "    dev = qml.device(\"default.qubit\", wires=2*n, shots=shots)\n",
    "else:\n",
    "    dev = qml.device(\"default.qubit\", wires=n, shots=shots)"
   ]
  },
  {
   "cell_type": "code",
   "execution_count": null,
   "id": "3145d6d8",
   "metadata": {
    "title": "MaxCut Hamiltonian"
   },
   "outputs": [],
   "source": [
    "C, B = qml.qaoa.maxcut(G)\n",
    "print(C)"
   ]
  },
  {
   "cell_type": "code",
   "execution_count": null,
   "id": "4bda3dd0",
   "metadata": {
    "title": "Random Circuit"
   },
   "outputs": [],
   "source": [
    "@qml.qnode(dev)\n",
    "def random_circuit(gamma, beta, seed=12345, counts=False, probs=False, n_layers=1):\n",
    "    if n_layers == 1:\n",
    "        seed = [seed]\n",
    "\n",
    "    # initialize state to be an equal superposition\n",
    "    for i in range(n_wires):\n",
    "        qml.Hadamard(i)\n",
    "\n",
    "    for p in range(n_layers):\n",
    "        # choose m random gates for the cost Hamiltonian\n",
    "        np.random.seed(seed[p])\n",
    "        qml.Barrier(wires=range(n_wires), only_visual=True)\n",
    "\n",
    "        # if increasing degree of vertices\n",
    "        if increase_degree:\n",
    "            for i in range(n_wires):\n",
    "                qml.IsingZZ(gamma[p], wires=[i, n_wires+i])\n",
    "\n",
    "        curr_qubits = nx.Graph()\n",
    "        curr_qubits.add_nodes_from(range(n_wires))\n",
    "        for i in range(m):\n",
    "            # if we only want ZZ gates corresponding to edges in G complement\n",
    "            # is_edge=True\n",
    "            # while is_edge:\n",
    "            #     wire = np.random.choice(n_wires, size=2, replace=False)\n",
    "\n",
    "                # if (wire[0],wire[1]) not in G.edges():\n",
    "                #     is_edge=False\n",
    "\n",
    "            # if we want to exclude triangles\n",
    "            wire = np.random.choice(n_wires, size=2, replace=False)\n",
    "\n",
    "            if len(get_triangles(curr_qubits, wire.numpy()[0], wire.numpy()[1]) \n",
    "                   + get_triangles(G, wire.numpy()[0], wire.numpy()[1])) == 0:\n",
    "                curr_qubits.add_edge(wire.numpy()[0], wire.numpy()[1])\n",
    "                qml.IsingZZ(gamma[p], wires=[wire.numpy()[0], wire.numpy()[1]])\n",
    "\n",
    "\n",
    "            qml.IsingZZ(gamma[p], wires=[wire.numpy()[0], wire.numpy()[1]])\n",
    "        qml.Barrier(wires=range(n_wires), only_visual=True)\n",
    "\n",
    "        # Apply mixing Hamiltionian\n",
    "        qml.qaoa.mixer_layer(beta[p], B)\n",
    "\n",
    "    # return samples instead of expectation value\n",
    "    if counts:\n",
    "        # measurement phase\n",
    "        return qml.counts(all_outcomes=True)\n",
    "\n",
    "    # return probabilities instead of expectation value\n",
    "    if probs:\n",
    "        return qml.probs(wires=range(n_wires))\n",
    "\n",
    "    # Currently use the sum of the Cost Hamiltonians.\n",
    "    return qml.expval(C)"
   ]
  },
  {
   "cell_type": "code",
   "execution_count": null,
   "id": "4f9b5b80",
   "metadata": {
    "title": "QAOA Circuit"
   },
   "outputs": [],
   "source": [
    "@qml.qnode(dev)\n",
    "def qaoa_circuit(gamma, beta, seed=None, counts=False, probs=False, n_layers=1):\n",
    "    # initialize state to be an equal superposition\n",
    "    for i in range(n_wires):\n",
    "        qml.Hadamard(i)\n",
    "\n",
    "    # apply unitary layers\n",
    "    for p in range(n_layers):\n",
    "        qml.Barrier(wires=range(n_wires), only_visual=True)\n",
    "        qml.qaoa.cost_layer(gamma[p], C)\n",
    "        qml.Barrier(wires=range(n_wires), only_visual=True)\n",
    "        qml.qaoa.mixer_layer(beta[p], B)\n",
    "\n",
    "    # return samples instead of expectation value\n",
    "    if counts:\n",
    "        # measurement phase\n",
    "        return qml.counts(all_outcomes=True)\n",
    "\n",
    "    # return probabilities instead of expectation value\n",
    "    if probs:\n",
    "        return qml.probs(wires=range(n_wires))\n",
    "\n",
    "    # Currently use the sum of the Cost Hamiltonians.\n",
    "    return qml.expval(C)"
   ]
  },
  {
   "cell_type": "code",
   "execution_count": null,
   "id": "968301ce",
   "metadata": {
    "title": "Optimization"
   },
   "outputs": [],
   "source": [
    "# np.random.seed(1248)\n",
    "\n",
    "def optimize_angles(circuit, seed=None, n_layers=1):\n",
    "    print(\"\\np={:d}\".format(n_layers))\n",
    "\n",
    "    # initialize the parameters near zero\n",
    "    init_params = 0.01 * np.random.rand(2, n_layers, requires_grad=True)\n",
    "\n",
    "    # minimize the negative of the objective function\n",
    "    def objective(params):\n",
    "        gammas = params[0]\n",
    "        betas = params[1]\n",
    "        neg_obj = circuit(gammas, betas, seed, n_layers=n_layers)\n",
    "        return neg_obj\n",
    "\n",
    "    # initialize optimizer: Adagrad works well empirically\n",
    "    opt = qml.AdagradOptimizer(stepsize=0.5)\n",
    "\n",
    "    # optimize parameters in objective\n",
    "    params = init_params\n",
    "    steps = 50\n",
    "    for i in range(steps):\n",
    "        params = opt.step(objective, params)\n",
    "        if (i + 1) % 5 == 0:\n",
    "            print(\"Objective after step {:5d}: {: .7f}\".format(i + 1, -objective(params)))\n",
    "\n",
    "    # sample measured bitstrings 1000 times\n",
    "    n_counts = shots\n",
    "    counts = circuit(params[0], params[1], seed, counts=True, n_layers=n_layers)\n",
    "\n",
    "    # print optimal parameters and most frequently sampled bitstring\n",
    "    most_freq_bit_string = max(counts, key=counts.get)\n",
    "    prob = counts[most_freq_bit_string]/n_counts\n",
    "    print(f\"Optimized (gamma, beta) vectors:\\n{params[:, :n_layers]}\")\n",
    "    print(f\"Most frequently sampled bit string is: {most_freq_bit_string} with probability {prob:.4f}\")\n",
    "\n",
    "    return params, counts, most_freq_bit_string, prob"
   ]
  },
  {
   "cell_type": "code",
   "execution_count": null,
   "id": "3025f0de",
   "metadata": {
    "title": "Run the QAOA Thing"
   },
   "outputs": [],
   "source": [
    "qaoa_dict = {}\n",
    "p_max = 2\n",
    "\n",
    "for p in range(1,p_max+1):\n",
    "    qaoa_dict[p] = {}\n",
    "    params, bitstrings, most, prob_most = optimize_angles(qaoa_circuit, n_layers=p)\n",
    "    qaoa_dict[p]['gamma'] = params[0].numpy().tolist()\n",
    "    qaoa_dict[p]['beta'] = params[1].numpy().tolist()\n",
    "    qaoa_dict[p]['cuts'] = bitstrings\n",
    "    qaoa_dict[p]['most freq cut'] = most\n",
    "    qaoa_dict[p]['prob most freq cut'] = prob_most\n",
    "\n",
    "    ar = []\n",
    "    for bit in bitstrings:\n",
    "        ar.append(mthd.cut_expval(dev,bit,C)/-13.0)\n",
    "\n",
    "    prob_dict = {}\n",
    "    for i in np.sort(ar).numpy().tolist():\n",
    "        if i in prob_dict.keys():\n",
    "            prob_dict[i] += 1\n",
    "        else:\n",
    "            prob_dict[i] = 1\n",
    "    qaoa_dict[p]['AR distribution'] = prob_dict\n",
    "\n",
    "    qaoa_dict[p]['average AR'] = np.mean(ar)\n",
    "    qaoa_dict[p]['best AR'] = max(ar).numpy()\n",
    "    qaoa_dict[p]['prob best AR'] = prob_dict[max(ar).numpy()]/len(ar)\n",
    "# graph(bitstrings, beamer=True)"
   ]
  },
  {
   "cell_type": "code",
   "execution_count": null,
   "id": "40b0a016",
   "metadata": {
    "title": "dataframe"
   },
   "outputs": [],
   "source": [
    "print('------------------------------------------------------------')\n",
    "print('write qaoa')\n",
    "# with open('qaoa_data.txt', 'w') as f:\n",
    "#     f.write(json.dumps(qaoa_dict, cls=NpEncoder))\n",
    "qaoa_df = pd.DataFrame.from_dict(qaoa_dict)\n",
    "qaoa_df.to_json('qaoa_data.txt', orient='columns')\n",
    "print('qaoa written')\n",
    "\n"
   ]
  },
  {
   "cell_type": "code",
   "execution_count": null,
   "id": "650253bf",
   "metadata": {
    "title": "cell name"
   },
   "outputs": [],
   "source": [
    "qaoa_df"
   ]
  },
  {
   "cell_type": "code",
   "execution_count": null,
   "id": "8b14d2c3",
   "metadata": {
    "title": "cell name"
   },
   "outputs": [],
   "source": [
    "# print(qaoa_dict[1]['AR distribution'])\n",
    "print(qaoa_dict[1]['average AR'])\n",
    "print(qaoa_dict[1]['prob best AR'])\n",
    "print(qaoa_dict[1]['prob most freq cut'])"
   ]
  },
  {
   "cell_type": "code",
   "execution_count": null,
   "id": "8645c99d",
   "metadata": {
    "title": "Generate Multiple Random Circuits"
   },
   "outputs": [],
   "source": [
    "num_circs = 50\n",
    "\n",
    "random_circuits_dict = {}\n",
    "\n",
    "# set random seed to generate random seeds\n",
    "np.random.seed(1)\n",
    "seeds = np.random.choice(10000, num_circs)\n",
    "p_max = 1\n",
    "sameness = [True, False]\n",
    "\n",
    "for p in range(1,p_max+1):\n",
    "    random_circuits_dict[p] = {}\n",
    "    if p == 1:\n",
    "        i_same_seed = {}\n",
    "        i_gamma = []\n",
    "        i_beta = []\n",
    "        i_bitstrings = []\n",
    "        i_most = []\n",
    "        i_prob_most = []\n",
    "        i_ar = []\n",
    "        i_avg_ar = []\n",
    "        i_best_ar = []\n",
    "        i_prob_best_ar = []\n",
    "        for i in range(num_circs):\n",
    "            print('------------------------------------------------------------')\n",
    "            print(f\"Random Circuit #{i+1}, p = {p}\")\n",
    "            layer_seeds = mthd.generate_layer_seeds(n_layers=p, seeds=seeds, initial_seed=seeds[i], same_seed=True)\n",
    "            params, bitstrings, most, prob_most = optimize_angles(random_circuit, seed=layer_seeds, n_layers=p)\n",
    "            i_gamma.append(params[0].numpy().tolist())\n",
    "            i_beta.append(params[1].numpy().tolist())\n",
    "            i_bitstrings.append(bitstrings)\n",
    "            i_most.append(most)\n",
    "            i_prob_most.append(prob_most)\n",
    "\n",
    "            ar = []\n",
    "            for bit in bitstrings:\n",
    "                ar.append(mthd.cut_expval(dev, bit,C)/-13.0)\n",
    "\n",
    "            prob_dict = {}\n",
    "            for ii in np.sort(ar).numpy().tolist():\n",
    "                if ii in prob_dict.keys():\n",
    "                    prob_dict[ii] += 1\n",
    "                else:\n",
    "                    prob_dict[ii] = 1\n",
    "            i_ar.append(prob_dict)\n",
    "\n",
    "            i_avg_ar.append(np.mean(ar))\n",
    "            i_best_ar.append(max(ar).numpy())\n",
    "            i_prob_best_ar.append(prob_dict[max(ar).numpy()]/len(ar))\n",
    "\n",
    "        random_circuits_dict[p]['gamma'] = i_gamma\n",
    "        random_circuits_dict[p]['beta'] = i_beta\n",
    "        random_circuits_dict[p]['cuts'] = i_bitstrings\n",
    "        random_circuits_dict[p]['most freq cut'] = i_most\n",
    "        random_circuits_dict[p]['prob most freq cut'] = i_prob_most\n",
    "        random_circuits_dict[p]['AR distribution'] = i_ar\n",
    "        random_circuits_dict[p]['average AR'] = i_avg_ar\n",
    "        random_circuits_dict[p]['best AR'] = i_best_ar\n",
    "        random_circuits_dict[p]['prob best AR'] = i_prob_best_ar\n",
    "    else:\n",
    "        for same in sameness:\n",
    "            i_same_seed = {}\n",
    "            i_gamma = []\n",
    "            i_beta = []\n",
    "            i_bitstrings = []\n",
    "            i_most = []\n",
    "            i_prob_most = []\n",
    "            i_ar = []\n",
    "            i_avg_ar = []\n",
    "            i_best_ar = []\n",
    "            i_prob_best_ar = []\n",
    "            for i in range(num_circs):\n",
    "                print('------------------------------------------------------------')\n",
    "                print(f\"Random Circuit #{i+1}, p = {p}, same={same}\")\n",
    "                layer_seeds = mthd.generate_layer_seeds(n_layers=p, seeds=seeds, initial_seed=seeds[i], same_seed=same)\n",
    "                params, bitstrings, most, prob_most = optimize_angles(random_circuit, seed=layer_seeds, n_layers=p)\n",
    "                i_gamma.append(params[0].numpy().tolist())\n",
    "                i_beta.append(params[1].numpy().tolist())\n",
    "                i_bitstrings.append(bitstrings)\n",
    "                i_most.append(most)\n",
    "                i_prob_most.append(prob_most)\n",
    "\n",
    "                ar = []\n",
    "                for bit in bitstrings:\n",
    "                    ar.append(mthd.cut_expval(dev, bit,C)/-13.0)\n",
    "\n",
    "                prob_dict = {}\n",
    "                for ii in np.sort(ar).numpy().tolist():\n",
    "                    if ii in prob_dict.keys():\n",
    "                        prob_dict[ii] += 1\n",
    "                    else:\n",
    "                        prob_dict[ii] = 1\n",
    "                i_ar.append(prob_dict)\n",
    "\n",
    "                i_avg_ar.append(np.mean(ar))\n",
    "                i_best_ar.append(max(ar).numpy())\n",
    "                i_prob_best_ar.append(prob_dict[max(ar).numpy()]/len(ar))\n",
    "\n",
    "            i_same_seed['gamma'] = i_gamma\n",
    "            i_same_seed['beta'] = i_beta\n",
    "            i_same_seed['cuts'] = i_bitstrings\n",
    "            i_same_seed['most freq cut'] = i_most\n",
    "            i_same_seed['prob most freq cut'] = i_prob_most\n",
    "            i_same_seed['AR distribution'] = i_ar\n",
    "            i_same_seed['average AR'] = i_avg_ar\n",
    "            i_same_seed['best AR'] = i_best_ar\n",
    "            i_same_seed['prob best AR'] = i_prob_best_ar\n",
    "            random_circuits_dict[p][same] = i_same_seed"
   ]
  },
  {
   "cell_type": "code",
   "execution_count": null,
   "id": "d6596699",
   "metadata": {
    "lines_to_next_cell": 2,
    "title": "data"
   },
   "outputs": [],
   "source": [
    "print('------------------------------------------------------------')\n",
    "print('write random_circuits')\n",
    "# random_circuits_df = pd.DataFrame.from_dict(random_circuits_dict)\n",
    "# random_circuits_df.to_json('random_circuits_data.txt', orient='columns')\n",
    "random_circuits_not_edge_df = pd.DataFrame.from_dict(random_circuits_dict)\n",
    "random_circuits_not_edge_df.to_json('random_circuits_not_triangle_data.txt', orient='columns')\n",
    "print('random_circuits written')"
   ]
  },
  {
   "cell_type": "code",
   "execution_count": null,
   "id": "4e002e00",
   "metadata": {
    "lines_to_next_cell": 2,
    "title": "cell name"
   },
   "outputs": [],
   "source": [
    "random_circuits_df"
   ]
  },
  {
   "cell_type": "code",
   "execution_count": null,
   "id": "57b1c6f7",
   "metadata": {
    "lines_to_next_cell": 2,
    "title": "Show MaxCut QAOA"
   },
   "outputs": [],
   "source": [
    "mthd.draw_cut(G, nx.spring_layout(G, seed=1), qaoa_dict[1][\"most freq cut\"], True)\n",
    "plt.axis('off')\n",
    "plt.savefig('maxcut_10_vertex.pdf')\n",
    "plt.show()\n",
    "print(mthd.cut_expval(dev,qaoa_dict[1][\"most freq cut\"],C)/-13.0)\n",
    "\n",
    "# graph(bitstrings_qaoa, beamer=True)"
   ]
  },
  {
   "cell_type": "code",
   "execution_count": null,
   "id": "d90485c3",
   "metadata": {
    "lines_to_next_cell": 2,
    "title": "testttt"
   },
   "outputs": [],
   "source": [
    "qaoa_fig, qaoa_ax = qml.draw_mpl(qaoa_circuit, decimals=1)(qaoa_dict[1]['gamma'], qaoa_dict[1]['beta'], n_layers=1)\n",
    "qaoa_fig.suptitle(\"QAOA Circuit\", fontsize=\"xx-large\")\n",
    "plt.savefig('../paper/qaoa_circuit_1.pdf')\n",
    "\n",
    "# rand_max_fig, rand_max_ax = qml.draw_mpl(random_circuit, style='default', decimals=2)(random_params[15][0], random_params[15][1], seeds[15])\n",
    "# rand_max_fig.suptitle(\"Max AR Random Circuit\", fontsize=\"xx-large\")\n",
    "# plt.savefig('max_random_circuit.pdf')\n",
    "\n",
    "# rand_min_fig, rand_min_ax = qml.draw_mpl(random_circuit, style='default', decimals=2)(random_params[5][0], random_params[5][1], seeds[5])\n",
    "# rand_min_fig.suptitle(\"Min AR Random Circuit\", fontsize=\"xx-large\")\n",
    "# plt.savefig('min_random_circuit.pdf')"
   ]
  },
  {
   "cell_type": "code",
   "execution_count": null,
   "id": "1c8fbc19",
   "metadata": {
    "lines_to_next_cell": 2,
    "title": "testtttt"
   },
   "outputs": [],
   "source": [
    "mthd.draw_cut(G, nx.spring_layout(G, seed=1), f'{most_freq_cut_qaoa:0{n_wires}b}', True)\n",
    "plt.savefig('maxcut_10_vertex.pdf')\n",
    "# draw_cut(G, nx.spring_layout(G, seed=1), f'{random_most[15]:0{n_wires}b}', True). \n",
    "# draw_cut(G, nx.spring_layout(G, seed=1), f'{random_most[5]:0{n_wires}b}', True)\n",
    "# plt.axis('off')\n",
    "# plt.show()\n",
    "\n",
    "\n",
    "\n",
    "for p in range(1,p_max+1):\n",
    "    mthd.write_data(circuit='QAOA', p=p, angles=qaoa_params[p], bitstrings=qaoa_bitstrings[p], most_freq=qaoa_most[p], avg_ar=qaoa_avg_ar[p], best_ar=qaoa_best_ar[p], seed_type=None)\n",
    "\n",
    "# for p in range(1,3):\n",
    "#     write_data(circuit='random', p=p, angles=random_params_same[p], bitstrings=random_bitstrings_same[p], most_freq=random_most_same[p], avg_ar=random_ar, best_ar=qaoa_ar_best, seed_type=None)"
   ]
  },
  {
   "cell_type": "code",
   "execution_count": null,
   "id": "3644e2b5",
   "metadata": {
    "title": "stuff"
   },
   "outputs": [],
   "source": [
    "print('------------------------------------------------------------')\n",
    "print(f\"{qaoa_dict[1]['average AR']:.6f}\")\n",
    "print('------------------------------------------------------------')\n",
    "print(f\"{np.average(random_circuits_dict[1]['average AR']):.6f}\")\n",
    "print(f\"{np.min(random_circuits_dict[1]['average AR']):.6f}\")\n",
    "print(f\"{np.max(random_circuits_dict[1]['average AR']):.6f}\")\n",
    "print('------------------------------------------------------------')\n",
    "print(f\"{np.average(random_circuits_dict[1]['average AR']):.6f}\")\n",
    "print(f\"{np.min(random_circuits_dict[1]['average AR']):.6f}\")\n",
    "print(f\"{np.max(random_circuits_dict[1]['average AR']):.6f}\")\n",
    "print('------------------------------------------------------------')\n",
    "print('------------------------------------------------------------')\n",
    "print(f\"{random_circuits_dict[1]['gamma']}\")\n",
    "print('------------------------------------------------------------')\n",
    "print(f\"{random_circuits_dict[1]['beta']}\")\n",
    "\n",
    "\n",
    "# p=2\n",
    "# same_index = random_circuits_same[p]['average AR'].index(np.max(random_circuits_diff[p]['average AR']))\n",
    "# diff_index = random_circuits_diff[p]['average AR'].index(np.max(random_circuits_diff[p]['average AR']))\n",
    "\n",
    "# qaoa_fig, qaoa_ax = qml.draw_mpl(qaoa_circuit, decimals=2)(qaoa_dict[p]['gamma'], qaoa_dict[p]['beta'], n_layers=p)\n",
    "# qaoa_fig.suptitle(f\"QAOA Circuit, p={p}\", fontsize=\"xx-large\")\n",
    "# plt.savefig(f'paper/qaoa_circuit_{p}.pdf')\n",
    "\n",
    "# layer_seeds = generate_layer_seeds(n_layers=p, seeds=seeds, initial_seed=seeds[same_index], same_seed=True)\n",
    "# rand_max_fig, rand_max_ax = qml.draw_mpl(random_circuit, decimals=2)(random_circuits_same[p]['gamma'][same_index], random_circuits_same[p]['beta'][same_index], layer_seeds,n_layers=p)\n",
    "# rand_max_fig.suptitle(f\"Random QAOA-like circuit with maximum AR, p={p}\", fontsize=\"xx-large\")\n",
    "# plt.savefig(f'paper/random_circuit_max_ar_{p}.pdf')\n",
    "\n",
    "\n",
    "# layer_seeds = mthd.generate_layer_seeds(n_layers=p, seeds=seeds, initial_seed=seeds[diff_index], same_seed=False)\n",
    "# rand_diff_max_fig, rand_diff_max_ax = qml.draw_mpl(random_circuit, decimals=2)(random_circuits_diff[p]['gamma'][diff_index], random_circuits_diff[p]['beta'][diff_index], layer_seeds,n_layers=p)\n",
    "# rand_diff_max_fig.suptitle(f\"Random QAOA-like circuit with maximum AR, p={p}, different\", fontsize=\"xx-large\")\n",
    "# plt.savefig(f'paper/random_circuit_max_ar_{p}_diff.pdf')"
   ]
  },
  {
   "cell_type": "code",
   "execution_count": null,
   "id": "f2769a3d",
   "metadata": {
    "title": "Write Date"
   },
   "outputs": [],
   "source": [
    "wires=np.random.choice(n_wires, size=2, replace=False).numpy()\n",
    "print((wires[0], wires[1]))\n",
    "G.edges()"
   ]
  },
  {
   "cell_type": "code",
   "execution_count": null,
   "id": "147f5c8a",
   "metadata": {
    "lines_to_next_cell": 3,
    "title": "cell name"
   },
   "outputs": [],
   "source": [
    "print(random_circuits_dict[1]['average AR'])\n",
    "print(random_circuits_dict[1]['AR distribution'][1])\n",
    "print(random_circuits_dict[1]['AR distribution'][49])"
   ]
  }
 ],
 "metadata": {
  "jupytext": {
   "cell_metadata_filter": "title,-all",
   "encoding": "# coding: utf-8",
   "executable": "/usr/bin/env python",
   "main_language": "python",
   "notebook_metadata_filter": "-all"
  }
 },
 "nbformat": 4,
 "nbformat_minor": 5
}
