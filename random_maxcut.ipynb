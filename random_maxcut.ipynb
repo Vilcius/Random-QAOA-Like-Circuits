{
 "cells": [
  {
   "cell_type": "code",
   "execution_count": null,
   "id": "22df4df0",
   "metadata": {},
   "outputs": [],
   "source": [
    "# file: random_maxcut.py\n",
    "# author: Anthony Wilkie\n",
    "\n",
    "# TODO: find more efficient way to implement scenarios (amplitudes of states for O(log(n))"
   ]
  },
  {
   "cell_type": "code",
   "execution_count": null,
   "id": "a2ad87fa",
   "metadata": {
    "lines_to_next_cell": 1,
    "title": "Imports"
   },
   "outputs": [],
   "source": [
    "import pennylane as qml\n",
    "from pennylane import numpy as np\n",
    "from matplotlib import pyplot as plt\n",
    "\n",
    "import networkx as nx"
   ]
  },
  {
   "cell_type": "code",
   "execution_count": null,
   "id": "09594bca",
   "metadata": {
    "title": "Draw Graph"
   },
   "outputs": [],
   "source": [
    "def draw_cut(G, pos, bitstring, beamer=False):\n",
    "    S0 = [node for node in G.nodes if bitstring[node] == \"0\"]\n",
    "    S1 = [node for node in G.nodes if bitstring[node] == \"1\"]\n",
    "\n",
    "    cut_edges = [edge for edge in G.edges if bitstring[edge[0]] != bitstring[edge[1]]]\n",
    "    uncut_edges = [edge for edge in G.edges if bitstring[edge[0]] == bitstring[edge[1]]]\n",
    "\n",
    "    nx.draw_networkx_nodes(G, pos, nodelist=S0, node_color='#a99b63')\n",
    "    #nx.draw_networkx_nodes(G, pos, nodelist=S0, node_color='#936846')\n",
    "    nx.draw_networkx_nodes(G, pos, nodelist=S1, node_color='#286d8c')\n",
    "    if beamer:\n",
    "        nx.draw_networkx_edges(G, pos, edgelist=cut_edges, edge_color='#98c9d3', style='dashdot', alpha=0.5)\n",
    "        nx.draw_networkx_edges(G, pos, edgelist=uncut_edges, edge_color='#98c9d3', style='solid')\n",
    "        plt.rc('figure', facecolor='#041017')\n",
    "    else:\n",
    "        nx.draw_networkx_edges(G, pos, edgelist=cut_edges, edge_color='#041017', style='dashdot', alpha=0.5)\n",
    "        nx.draw_networkx_edges(G, pos, edgelist=uncut_edges, edge_color='#041017', style='solid')\n",
    "    nx.draw_networkx_labels(G, pos)"
   ]
  },
  {
   "cell_type": "code",
   "execution_count": null,
   "id": "b6ad28cf",
   "metadata": {
    "title": "Create Random Graph"
   },
   "outputs": [],
   "source": [
    "n = 10\n",
    "p = 0.3\n",
    "graph_seed = 18\n",
    "G = nx.gnp_random_graph(n, p, seed=graph_seed)\n",
    "m = len(G.edges())\n",
    "\n",
    "# n = 5\n",
    "# edges = [(0,1), (0,2), (0,3), (0,4), (1,2), (2,3)]\n",
    "# m = len(edges)\n",
    "# G = nx.Graph(edges)\n",
    "\n",
    "draw_cut(G, nx.spring_layout(G, seed=1), '1'*n, True)\n",
    "plt.axis('off')\n",
    "# plt.savefig('/home/vilcius/School/utk/PHYS_642-quantum_information/project/n_5_graph.pdf',\n",
    "            # bbox_inches='tight',\n",
    "            # pad_inches = 0,\n",
    "            # transparent=True)\n",
    "plt.show()"
   ]
  },
  {
   "cell_type": "code",
   "execution_count": null,
   "id": "722474b6",
   "metadata": {
    "title": "bitstring"
   },
   "outputs": [],
   "source": [
    "def bitstring_to_int(bit_string_sample):\n",
    "    bit_string = \"\".join(str(bs) for bs in bit_string_sample)\n",
    "    return int(bit_string, base=2)"
   ]
  },
  {
   "cell_type": "code",
   "execution_count": null,
   "id": "f130b9b7",
   "metadata": {
    "lines_to_next_cell": 2,
    "title": "Variables"
   },
   "outputs": [],
   "source": [
    "n_wires = n\n",
    "dev = qml.device(\"default.qubit\", wires=n, shots=1)\n",
    "\n",
    "# the gates to randomly choose from\n",
    "single_gates = [qml.RX, qml.RY, qml.RZ]\n",
    "double_gates = [qml.IsingXX, qml.IsingYY, qml.IsingZZ, qml.IsingXY]"
   ]
  },
  {
   "cell_type": "code",
   "execution_count": null,
   "id": "5963568b",
   "metadata": {
    "title": "MaxCut Hamiltonian"
   },
   "outputs": [],
   "source": [
    "C, B = qml.qaoa.maxcut(G)\n",
    "print(C)"
   ]
  },
  {
   "cell_type": "code",
   "execution_count": null,
   "id": "3dec3620",
   "metadata": {
    "title": "Circuit"
   },
   "outputs": [],
   "source": [
    "@qml.qnode(dev)\n",
    "def random_circuit(gamma, beta, seed=12345, sample=False, probs=False, n_layers=1):\n",
    "    np.random.seed(seed)\n",
    "\n",
    "    # initialize state to be an equal superposition\n",
    "    for i in range(n_wires):\n",
    "        qml.Hadamard(i)\n",
    "\n",
    "    # choose m random gates\n",
    "    for i in range(m):\n",
    "        # choose if gate is single qubit or two qubit\n",
    "        qubs = np.random.randint(2)\n",
    "\n",
    "        if qubs == 0:\n",
    "            wire = np.random.randint(n_wires)\n",
    "            op = np.random.choice(single_gates)\n",
    "            op(beta[0], wires=wire)\n",
    "\n",
    "        else:\n",
    "            wire = np.random.choice(n_wires, size=2, replace=False)\n",
    "            op = np.random.choice(double_gates)\n",
    "            op(gamma[0], wires=[wire.numpy()[0], wire.numpy()[1]])\n",
    "\n",
    "    # return samples instead of expectation value\n",
    "    if sample:\n",
    "        # measurement phase\n",
    "        return qml.sample()\n",
    "\n",
    "    # return probabilities instead of expectation value\n",
    "    if probs:\n",
    "        return qml.probs(wires=range(n_wires))\n",
    "\n",
    "    # Currently use the sum of the Cost Hamiltonians.\n",
    "    return qml.expval(C)"
   ]
  },
  {
   "cell_type": "code",
   "execution_count": null,
   "id": "12af4a45",
   "metadata": {
    "title": "QAOA Circuit"
   },
   "outputs": [],
   "source": [
    "@qml.qnode(dev)\n",
    "def qaoa_circuit(gamma, beta, seed=None, sample=False, probs=False, n_layers=1):\n",
    "    # initialize state to be an equal superposition\n",
    "    for i in range(n_wires):\n",
    "        qml.Hadamard(i)\n",
    "\n",
    "    # apply unitary layers\n",
    "    for p in range(n_layers):\n",
    "        qml.qaoa.cost_layer(gamma[p], C)\n",
    "        qml.qaoa.mixer_layer(beta[p], B)\n",
    "\n",
    "    # return samples instead of expectation value\n",
    "    if sample:\n",
    "        # measurement phase\n",
    "        return qml.sample()\n",
    "\n",
    "    # return probabilities instead of expectation value\n",
    "    if probs:\n",
    "        return qml.probs(wires=range(n_wires))\n",
    "\n",
    "    # Currently use the sum of the Cost Hamiltonians.\n",
    "    return qml.expval(C)"
   ]
  },
  {
   "cell_type": "code",
   "execution_count": null,
   "id": "8324272c",
   "metadata": {
    "title": "Optimization"
   },
   "outputs": [],
   "source": [
    "# np.random.seed(1248)\n",
    "\n",
    "def optimize_angles(circuit, seed=None, n_layers=1):\n",
    "    print(\"\\np={:d}\".format(n_layers))\n",
    "\n",
    "    # initialize the parameters near zero\n",
    "    init_params = 0.01 * np.random.rand(2, n_layers, requires_grad=True)\n",
    "\n",
    "    # minimize the negative of the objective function\n",
    "    def objective(params):\n",
    "        gammas = params[0]\n",
    "        betas = params[1]\n",
    "        neg_obj = circuit(gammas, betas, seed, n_layers=n_layers)\n",
    "        return neg_obj\n",
    "\n",
    "    # initialize optimizer: Adagrad works well empirically\n",
    "    opt = qml.AdagradOptimizer(stepsize=0.5)\n",
    "\n",
    "    # optimize parameters in objective\n",
    "    params = init_params\n",
    "    steps = 50\n",
    "    for i in range(steps):\n",
    "        params = opt.step(objective, params)\n",
    "        if (i + 1) % 5 == 0:\n",
    "            print(\"Objective after step {:5d}: {: .7f}\".format(i + 1, -objective(params)))\n",
    "\n",
    "    # sample measured bitstrings 100 times\n",
    "    bit_strings = []\n",
    "    n_samples = 1000\n",
    "    for i in range(0, n_samples):\n",
    "        bit_strings.append(bitstring_to_int(circuit(params[0], params[1], sample=True, n_layers=n_layers)))\n",
    "\n",
    "    # print optimal parameters and most frequently sampled bitstring\n",
    "    counts = np.bincount(np.array(bit_strings))\n",
    "    most_freq_bit_string = np.argmax(counts)\n",
    "    print(f\"Optimized (gamma, beta) vectors:\\n{params[:, :n_layers]}\")\n",
    "    print(f\"Most frequently sampled bit string is: {most_freq_bit_string:0{n_wires}b} with probability {(counts[most_freq_bit_string]/n_samples):.4f}\")\n",
    "\n",
    "    return params, bit_strings, most_freq_bit_string"
   ]
  },
  {
   "cell_type": "code",
   "execution_count": null,
   "id": "ecbc62b3",
   "metadata": {
    "title": "Plot"
   },
   "outputs": [],
   "source": [
    "import matplotlib.pyplot as plt\n",
    "barcolors = ['#286d8c', '#a99b63', '#936846', '#4d7888']\n",
    "\n",
    "def graph(bitstrings, beamer):\n",
    "\n",
    "    if beamer:\n",
    "        xticks = range(0, 2**(n_wires))\n",
    "        xtick_labels = list(map(lambda x: format(x, f\"0{n_wires}b\"), xticks))\n",
    "        bins = np.arange(0, 2**(n_wires)+1) - 0.5\n",
    "\n",
    "        plt.figure(figsize=(16, 8))\n",
    "        plt.rc('font', size=16)\n",
    "        plt.rc('axes', edgecolor='#98c9d3', labelcolor='#98c9d3', titlecolor='#98c9d3', facecolor='#041017')\n",
    "        plt.rc('figure', facecolor='#041017')\n",
    "        plt.rc('savefig', facecolor='#041017')\n",
    "        plt.rc('xtick',color='#98c9d3')\n",
    "        plt.rc('ytick',color='#98c9d3')\n",
    "        plt.rc('legend',labelcolor='#98c9d3', edgecolor='#98c9d3',facecolor=(0,0,0,0))\n",
    "        plt.title(\"s-QAOA\")\n",
    "        plt.xlabel(\"Bitstrings\")\n",
    "        plt.ylabel(\"Frequency\")\n",
    "        plt.xticks(xticks, xtick_labels, rotation=\"vertical\")\n",
    "        plt.hist(bitstrings,\n",
    "                 bins=bins,\n",
    "                 density=True,\n",
    "                 color=barcolors[0],\n",
    "                 edgecolor = \"#041017\",\n",
    "                 # label=[f'scenario {i}' for i in range(n_scenarios)]\n",
    "                 )\n",
    "        # plt.legend()\n",
    "        plt.tight_layout()\n",
    "        # plt.savefig('/home/vilcius/School/utk/PHYS_642-quantum_information/project/maxcut_1_beamer.pdf',\n",
    "                   # transparent=True)\n",
    "    else:\n",
    "        xticks = range(0, 2**(n_wires))\n",
    "        xtick_labels = list(map(lambda x: format(x, f\"0{n_wires}b\"), xticks))\n",
    "        bins = np.arange(0, 2**(n_wires)+1) - 0.5\n",
    "\n",
    "        plt.figure(figsize=(16, 8))\n",
    "        plt.rc('font', size=16)\n",
    "        plt.title(\"s-QAOA\")\n",
    "        plt.xlabel(\"Bitstrings\")\n",
    "        plt.ylabel(\"Frequency\")\n",
    "        plt.xticks(xticks, xtick_labels, rotation=\"vertical\")\n",
    "        plt.hist(bitstrings,\n",
    "                 bins=bins,\n",
    "                 density=True,\n",
    "                 color=barcolors[0],\n",
    "                 edgecolor = \"#041017\",\n",
    "                 # label=[f'scenario {i}' for i in range(n_scenarios)]\n",
    "                 )\n",
    "\n",
    "        plt.legend()\n",
    "        plt.tight_layout()\n",
    "        # plt.savefig('/home/vilcius/School/utk/PHYS_642-quantum_information/project/maxcut_1.pdf',\n",
    "        #            transparent=True)\n",
    "\n",
    "    plt.show()"
   ]
  },
  {
   "cell_type": "code",
   "execution_count": null,
   "id": "b4715949",
   "metadata": {
    "lines_to_next_cell": 2,
    "title": "Run the Random Thing"
   },
   "outputs": [],
   "source": [
    "params_rand, bitstrings_rand, most_freq_cut_rand = optimize_angles(random_circuit, n_layers=1)\n",
    "# graph(bitstrings, beamer=True)\n",
    "# print(qml.draw(random_circuit)(params[0], params[1]))"
   ]
  },
  {
   "cell_type": "code",
   "execution_count": null,
   "id": "696357b3",
   "metadata": {
    "lines_to_next_cell": 2,
    "title": "Run the QAOA Thing"
   },
   "outputs": [],
   "source": [
    "params_qaoa, bitstrings_qaoa, most_freq_cut_qaoa = optimize_angles(qaoa_circuit, n_layers=1)\n",
    "# graph(bitstrings, beamer=True)\n",
    "# print(qml.draw(qaoa_circuit)(params[0], params[1]))"
   ]
  },
  {
   "cell_type": "code",
   "execution_count": null,
   "id": "bb3fa1e5",
   "metadata": {
    "title": "Show MaxCut"
   },
   "outputs": [],
   "source": [
    "draw_cut(G, nx.spring_layout(G, seed=1), f'{most_freq_cut_rand:0{n_wires}b}', True)\n",
    "plt.axis('off')\n",
    "# plt.savefig('/home/vilcius/School/utk/PHYS_642-quantum_information/project/n_5_graph.pdf',\n",
    "            # bbox_inches='tight',\n",
    "            # pad_inches = 0,\n",
    "            # transparent=True)\n",
    "plt.show()\n",
    "\n",
    "# graph(bitstrings_rand, beamer=True)"
   ]
  },
  {
   "cell_type": "code",
   "execution_count": null,
   "id": "fbbce32b",
   "metadata": {
    "title": "Show MaxCut QAOA"
   },
   "outputs": [],
   "source": [
    "draw_cut(G, nx.spring_layout(G, seed=1), f'{most_freq_cut_qaoa:0{n_wires}b}', True)\n",
    "plt.axis('off')\n",
    "# plt.savefig('/home/vilcius/School/utk/PHYS_642-quantum_information/project/n_5_graph.pdf',\n",
    "            # bbox_inches='tight',\n",
    "            # pad_inches = 0,\n",
    "            # transparent=True)\n",
    "plt.show()\n",
    "\n",
    "# graph(bitstrings_qaoa, beamer=True)"
   ]
  },
  {
   "cell_type": "code",
   "execution_count": null,
   "id": "e81f4e9d",
   "metadata": {
    "title": "Print Expected Values"
   },
   "outputs": [],
   "source": [
    "print(random_circuit(params_rand[0],params_rand[1]))\n",
    "print(random_circuit(params_qaoa[0],params_qaoa[1]))\n",
    "\n",
    "print(qaoa_circuit(params_rand[0],params_rand[1]))\n",
    "print(qaoa_circuit(params_qaoa[0],params_qaoa[1]))\n",
    "\n",
    "print(f'{most_freq_cut_qaoa:0{n_wires}b}')"
   ]
  },
  {
   "cell_type": "code",
   "execution_count": null,
   "id": "e19dc55a",
   "metadata": {
    "lines_to_next_cell": 2,
    "title": "Probability Circuits"
   },
   "outputs": [],
   "source": [
    "probs_qaoa = qaoa_circuit(params_qaoa[0], params_qaoa[1], probs=True)\n",
    "probs_random = random_circuit(params_rand[0], params_rand[1], probs=True)\n",
    "\n",
    "graph(probs_qaoa, beamer=True)"
   ]
  },
  {
   "cell_type": "code",
   "execution_count": null,
   "id": "e4b33f4f",
   "metadata": {
    "lines_to_next_cell": 2,
    "title": "Generate Multiple Random Circuits"
   },
   "outputs": [],
   "source": [
    "num_circs = 50\n",
    "random_params = []\n",
    "random_bitstrings = []\n",
    "random_most = []\n",
    "random_expvals = []\n",
    "\n",
    "# set random seed to generate random seeds\n",
    "np.random.seed(1)\n",
    "seeds = np.random.choice(10000, num_circs)\n",
    "\n",
    "for i in range(num_circs):\n",
    "    print('------------------------------------------------------------')\n",
    "    print(f\"Random Circuit \\# {i+1}\")\n",
    "    params, bitstrings, most = optimize_angles(random_circuit, seed=seeds[i], n_layers=1)\n",
    "    random_params.append(params)\n",
    "    random_bitstrings.append(bitstrings)\n",
    "    random_most.append(most)\n",
    "    random_expvals.append(random_circuit(params[0], params[1]))"
   ]
  },
  {
   "cell_type": "code",
   "execution_count": null,
   "id": "7e36dabc",
   "metadata": {
    "lines_to_next_cell": 2,
    "title": "test"
   },
   "outputs": [],
   "source": [
    "most_freq_cut_qaoa\n",
    "print(most_freq_cut_qaoa in random_most)\n",
    "print(random_most)\n",
    "\n",
    "for param in random_params:\n",
    "    print(qaoa_circuit(param[0],param[1]))"
   ]
  }
 ],
 "metadata": {
  "jupytext": {
   "cell_metadata_filter": "title,-all",
   "encoding": "# coding: utf-8",
   "executable": "/usr/bin/env python",
   "main_language": "python",
   "notebook_metadata_filter": "-all"
  }
 },
 "nbformat": 4,
 "nbformat_minor": 5
}
